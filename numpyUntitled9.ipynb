{
 "cells": [
  {
   "cell_type": "code",
   "execution_count": 4,
   "id": "44ed2c94-fd68-402e-bfbc-f6ee1eb125d2",
   "metadata": {},
   "outputs": [
    {
     "name": "stdout",
     "output_type": "stream",
     "text": [
      "[20 30 40]\n",
      "[26 34 45]\n",
      "[46 64 85]\n"
     ]
    }
   ],
   "source": [
    "#numpy\n",
    "#array-it stores always together\n",
    "#diffrence between array and list\n",
    "#array-always takes same type of datatype\n",
    "#2.do all mathematical function easliy and fast\n",
    "#3.consume less memory more than list\n",
    "#4. a list is easier to modify ,easier to delete and add an element than an array does\n",
    "#5 a list can have nested data with different size but in array it is not possible always take same size of data\n",
    "\n",
    "import numpy as np\n",
    "a=np.array([20,30,40])\n",
    "b=np.array([26,34,45])\n",
    "print(a)\n",
    "print(b)\n",
    "print(a+b)"
   ]
  },
  {
   "cell_type": "code",
   "execution_count": 5,
   "id": "d362a51a-4d63-4534-86ce-06cd52af32b8",
   "metadata": {},
   "outputs": [
    {
     "data": {
      "text/plain": [
       "array([2. , 3.4, 5. ])"
      ]
     },
     "execution_count": 5,
     "metadata": {},
     "output_type": "execute_result"
    }
   ],
   "source": [
    "a=np.array([2,3.4,5])\n",
    "a"
   ]
  },
  {
   "cell_type": "code",
   "execution_count": 10,
   "id": "daa9b598-3070-4e1e-b0f8-639dc727a1f0",
   "metadata": {},
   "outputs": [
    {
     "name": "stdout",
     "output_type": "stream",
     "text": [
      "[[12 34 43 32]\n",
      " [22 33 23 33]\n",
      " [22 33 45 55]]\n",
      "[[12 34 43 32]]\n"
     ]
    }
   ],
   "source": [
    "#numpy-creating arrays, slicing and attributes\n",
    "import numpy as np\n",
    "\n",
    "arr=np.array([[12,34,43,32],[22,33,23,33],[22,33,45,55]])\n",
    "print(arr)\n"
   ]
  },
  {
   "cell_type": "code",
   "execution_count": 13,
   "id": "f4ca9e4a-2bd7-44ab-b06a-bd3e0bb17e3b",
   "metadata": {},
   "outputs": [
    {
     "name": "stdout",
     "output_type": "stream",
     "text": [
      "[12 34]\n"
     ]
    }
   ],
   "source": [
    "arr=np.array([12,34,43,32])\n",
    "print(arr[0:2])# slicing"
   ]
  },
  {
   "cell_type": "code",
   "execution_count": 14,
   "id": "0ce8197f-8892-4403-890c-c6fe6ec30b25",
   "metadata": {},
   "outputs": [
    {
     "name": "stdout",
     "output_type": "stream",
     "text": [
      "[[12 34]\n",
      " [22 33]]\n"
     ]
    }
   ],
   "source": [
    "arr=np.array([[12,34,43,32],[22,33,23,33]])\n",
    "print(arr[0:2,0:2])"
   ]
  },
  {
   "cell_type": "code",
   "execution_count": 15,
   "id": "19899fdb-1585-4d5e-9704-8940827a1d13",
   "metadata": {},
   "outputs": [
    {
     "name": "stdout",
     "output_type": "stream",
     "text": [
      "[23 33]\n"
     ]
    }
   ],
   "source": [
    "arr=np.array([[12,34,43,32],[22,33,23,33]])\n",
    "print(arr[1,2:])\n"
   ]
  },
  {
   "cell_type": "code",
   "execution_count": 24,
   "id": "53c45182-ed21-469c-a981-17974cb2a0bd",
   "metadata": {},
   "outputs": [
    {
     "name": "stdout",
     "output_type": "stream",
     "text": [
      "[33 45]\n",
      "(3, 4)\n",
      "12\n",
      "2\n",
      "3\n",
      "<class 'numpy.ndarray'>\n",
      "int32\n",
      "[[12. 34. 43. 32.]\n",
      " [22. 33. 23. 33.]\n",
      " [22. 33. 45. 55.]]\n"
     ]
    }
   ],
   "source": [
    "# inspecting an array\n",
    "arr=np.array([[12,34,43,32],[22,33,23,33],[22,33,45,55]])\n",
    "print(arr[2,1:3])\n",
    "print(np.shape(arr))# number of rows and number of coloumn\n",
    "print(np.size(arr))# total no. of elements\n",
    "print(np.ndim(arr))# two dimensional\n",
    "print(len(arr))# length od arr\n",
    "print(type(arr))\n",
    "print(arr.dtype)\n",
    "print(arr.astype(float)) or int or string# conversion of array\n"
   ]
  },
  {
   "cell_type": "code",
   "execution_count": 26,
   "id": "8a56e230-0abd-438e-9f11-96ca0b80e0bf",
   "metadata": {},
   "outputs": [
    {
     "name": "stdout",
     "output_type": "stream",
     "text": [
      "[100  65  66  66]\n",
      "[100  65  66  66]\n"
     ]
    }
   ],
   "source": [
    "# mathematical operations and functions on arrays\n",
    "import numpy as np\n",
    "arr1= np.array([23,21,33,44])\n",
    "arr2=np.array([77,44,33,22])\n",
    "print(arr1+arr2)\n",
    "print(np.add(arr1,arr2))\n"
   ]
  },
  {
   "cell_type": "code",
   "execution_count": 2,
   "id": "510708d8-c8c6-4d3b-99f6-06c20121296a",
   "metadata": {},
   "outputs": [
    {
     "name": "stdout",
     "output_type": "stream",
     "text": [
      "[[-54 -23]\n",
      " [  0  22]]\n"
     ]
    }
   ],
   "source": [
    "import numpy as np\n",
    "arr1= np.array([[23,21],[33,44]])\n",
    "arr2=np.array([[77,44],[33,22]])\n",
    "print(np.subtract(arr1,arr2))"
   ]
  },
  {
   "cell_type": "code",
   "execution_count": 11,
   "id": "7f4bcb50-9045-449c-a247-d44a8291c65f",
   "metadata": {},
   "outputs": [
    {
     "name": "stdout",
     "output_type": "stream",
     "text": [
      "[ 400  900 1600 2500]\n"
     ]
    }
   ],
   "source": [
    "import numpy as np\n",
    "arr1=np.array([20,30,40,50])\n",
    "arr2=np.array([2])\n",
    "print(np.power(arr1,arr2))\n"
   ]
  },
  {
   "cell_type": "code",
   "execution_count": 12,
   "id": "23e8b2ab-d71f-4595-8f6c-4f22119bcce0",
   "metadata": {},
   "outputs": [
    {
     "name": "stdout",
     "output_type": "stream",
     "text": [
      "[7. 4. 6.]\n"
     ]
    }
   ],
   "source": [
    "import numpy as np\n",
    "arr1=np.array([49,16,36])\n",
    "print(np.sqrt(arr1))"
   ]
  },
  {
   "cell_type": "code",
   "execution_count": 16,
   "id": "515e64ad-51fd-4eac-878d-3bd901497f9e",
   "metadata": {},
   "outputs": [
    {
     "name": "stdout",
     "output_type": "stream",
     "text": [
      "[12 13 14 15 16 17]\n",
      "[12 13 14 15 16 17]\n"
     ]
    }
   ],
   "source": [
    "#combining and splitting arrays\n",
    "#concatenate\n",
    "import numpy as np\n",
    "arr1=np.array([12,13,14])\n",
    "arr2=np.array([15,16,17])\n",
    "print(np.concatenate([arr1,arr2]))\n",
    "print(np.concatenate([arr1,arr2],axis=0))"
   ]
  },
  {
   "cell_type": "code",
   "execution_count": 21,
   "id": "bb69e71f-1b37-4cef-a590-9db5c7c26fab",
   "metadata": {},
   "outputs": [
    {
     "name": "stdout",
     "output_type": "stream",
     "text": [
      "[[12 13 15 16]\n",
      " [32 14 17 32]]\n",
      "[[12 13 15 16]\n",
      " [32 14 17 32]]\n"
     ]
    }
   ],
   "source": [
    "arr1=np.array([[12,13],[32,14]])\n",
    "arr2=np.array([[15,16],[17,32]])\n",
    "print(np.concatenate([arr1,arr2],axis=1))#horizontal\n",
    "print(np.hstack([arr1,arr2]))"
   ]
  },
  {
   "cell_type": "code",
   "execution_count": 22,
   "id": "270a198a-628c-4cb4-87c3-06c1493cf725",
   "metadata": {},
   "outputs": [
    {
     "name": "stdout",
     "output_type": "stream",
     "text": [
      "[[12 13]\n",
      " [32 14]\n",
      " [15 16]\n",
      " [17 32]]\n",
      "[[12 13]\n",
      " [32 14]\n",
      " [15 16]\n",
      " [17 32]]\n"
     ]
    }
   ],
   "source": [
    "print(np.concatenate([arr1,arr2],axis=0))#verticle\n",
    "print(np.vstack([arr1,arr2]))"
   ]
  },
  {
   "cell_type": "code",
   "execution_count": 24,
   "id": "b4dfef7a-e28d-49fa-9ad5-ba48ff8dbd25",
   "metadata": {},
   "outputs": [
    {
     "name": "stdout",
     "output_type": "stream",
     "text": [
      "[array([1, 2]), array([3, 4]), array([5, 6])]\n"
     ]
    }
   ],
   "source": [
    "#splitting\n",
    "a=np.array([1,2,3,4,5,6])\n",
    "print(np.array_split(a,3))"
   ]
  },
  {
   "cell_type": "code",
   "execution_count": 25,
   "id": "bc058f42-986c-4d1c-a989-0f109aaf3bf2",
   "metadata": {},
   "outputs": [
    {
     "name": "stdout",
     "output_type": "stream",
     "text": [
      "[3 4]\n"
     ]
    }
   ],
   "source": [
    "b=np.array_split(a,3)\n",
    "print(b[1])#by indexing"
   ]
  },
  {
   "cell_type": "code",
   "execution_count": 40,
   "id": "b205d006-be05-4149-817d-4f8e6c5c0d59",
   "metadata": {},
   "outputs": [
    {
     "name": "stdout",
     "output_type": "stream",
     "text": [
      "[ 2  4  6  8 10]\n",
      "[ 2  4  6  8 10  2  3]\n",
      "[ 2  4  3  6  8 10]\n",
      "[ 2  4  8 10]\n"
     ]
    }
   ],
   "source": [
    "#adding and removing elements in arrays\n",
    "import numpy as np\n",
    "a=np.array([2,4,6,8])\n",
    "b=(np.append(a,10))\n",
    "print(b)\n",
    "print(np.append(b,[2,3]))\n",
    "print(np.insert(b,2,3))# array,index,value\n",
    "print(np.delete(b,2))"
   ]
  },
  {
   "cell_type": "code",
   "execution_count": 49,
   "id": "38d5bc1d-6d93-48bc-b8d2-c88b2c57b1e8",
   "metadata": {},
   "outputs": [
    {
     "name": "stdout",
     "output_type": "stream",
     "text": [
      "[1 2 3 5 6 7 9]\n",
      "(array([2, 3], dtype=int64),)\n"
     ]
    }
   ],
   "source": [
    "#search ,sort,filter\n",
    "#sort- ascending order\n",
    "#filter-create new array from an existing array\n",
    "#search-by indexing\n",
    "\n",
    "import numpy as np\n",
    "arr=np.array([3,5,2,6,7,1,9])\n",
    "print(np.sort(arr1))\n",
    "s=np.where(arr%2==0)\n",
    "print(s)"
   ]
  },
  {
   "cell_type": "code",
   "execution_count": 46,
   "id": "f687d010-c89c-4eac-aef7-0e23329570b0",
   "metadata": {},
   "outputs": [
    {
     "data": {
      "text/plain": [
       "<function print>"
      ]
     },
     "execution_count": 46,
     "metadata": {},
     "output_type": "execute_result"
    }
   ],
   "source": [
    "#searching\n"
   ]
  },
  {
   "cell_type": "code",
   "execution_count": 57,
   "id": "5e18cae1-2310-4018-bb89-69d0bec9feab",
   "metadata": {},
   "outputs": [
    {
     "name": "stdout",
     "output_type": "stream",
     "text": [
      "25\n",
      "1\n",
      "7\n",
      "6\n",
      "4.166666666666667\n",
      "[ 2  6 11 17 24 25]\n",
      "[   2    8   40  240 1680 1680]\n"
     ]
    }
   ],
   "source": [
    "#aggregate funtions in arrays\n",
    "\n",
    "import numpy as np\n",
    "s=np.array([2,4,5,6,7,1])\n",
    "print(np.sum(s))\n",
    "print(np.min(s))\n",
    "print(np.max(s))\n",
    "print(np.size(s))\n",
    "print(np.mean(s))\n",
    "print(np.cumsum(s))\n",
    "print(np.cumprod(s))\n"
   ]
  },
  {
   "cell_type": "code",
   "execution_count": 70,
   "id": "a2af1f76-3854-45cc-9839-3ada3cfa2109",
   "metadata": {},
   "outputs": [
    {
     "name": "stdout",
     "output_type": "stream",
     "text": [
      "[2 3 4 5 6 2 5] \n",
      " [5 6 7 8 9 5 4]\n",
      "27\n",
      "[          2           6          24         120         720        1440\n",
      "        7200       36000      216000     1512000    12096000   108864000\n",
      "   544320000 -2117687296]\n"
     ]
    }
   ],
   "source": [
    "a=[2,3,4,5,6,2,5]\n",
    "b=[5,6,7,8,9,5,4]\n",
    "price=np.array(a)\n",
    "quantity=np.array(b)\n",
    "print(price,\"\\n\", quantity)\n",
    "print(np.sum(price))\n",
    "print(np.cumprod([price,quantity]))"
   ]
  },
  {
   "cell_type": "code",
   "execution_count": 80,
   "id": "c97dbeeb-9216-46ae-8114-97d39fa49e0f",
   "metadata": {},
   "outputs": [
    {
     "name": "stdout",
     "output_type": "stream",
     "text": [
      "[200 300 250 400 500 600]\n",
      "375.0\n",
      "350.0\n",
      "200\n",
      "140.68285846778443\n",
      "19791.666666666668\n"
     ]
    }
   ],
   "source": [
    "#statiscal funtion in array\n",
    "import numpy as np\n",
    "import statistics as stats\n",
    "baked_food=[200,300,250,400,500,600,]\n",
    "a=np.array(baked_food)\n",
    "print(a)\n",
    "print(np.mean(a))\n",
    "print(np.median(a))\n",
    "print(stats.mode(a))\n",
    "print(np.std(a))\n",
    "print(np.var(a))"
   ]
  },
  {
   "cell_type": "code",
   "execution_count": null,
   "id": "c6b29b66-0bc9-4a6d-a6d1-0b10bcaa09f8",
   "metadata": {},
   "outputs": [],
   "source": [
    "tobaco_cunsumption=[2,3,5,7,8,6,]\n"
   ]
  },
  {
   "cell_type": "code",
   "execution_count": null,
   "id": "a9631884-2b80-47de-b605-15c8528b1533",
   "metadata": {},
   "outputs": [],
   "source": []
  }
 ],
 "metadata": {
  "kernelspec": {
   "display_name": "Python 3 (ipykernel)",
   "language": "python",
   "name": "python3"
  },
  "language_info": {
   "codemirror_mode": {
    "name": "ipython",
    "version": 3
   },
   "file_extension": ".py",
   "mimetype": "text/x-python",
   "name": "python",
   "nbconvert_exporter": "python",
   "pygments_lexer": "ipython3",
   "version": "3.10.11"
  }
 },
 "nbformat": 4,
 "nbformat_minor": 5
}
