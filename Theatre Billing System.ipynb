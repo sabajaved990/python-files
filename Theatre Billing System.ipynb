{
 "cells": [
  {
   "cell_type": "markdown",
   "id": "5c9e44a9-8472-462f-b160-58b8fbf220af",
   "metadata": {},
   "source": [
    "# Theatre Billing System"
   ]
  },
  {
   "cell_type": "code",
   "execution_count": 8,
   "id": "59383d93-9c5d-4383-84b6-b330994f1e6a",
   "metadata": {},
   "outputs": [
    {
     "name": "stdout",
     "output_type": "stream",
     "text": [
      "********** Theatre Billing System **********\n"
     ]
    },
    {
     "name": "stdin",
     "output_type": "stream",
     "text": [
      "enter name: wa\n",
      "enter movie name: sa\n"
     ]
    },
    {
     "name": "stdout",
     "output_type": "stream",
     "text": [
      "press 1 for normal seats-250rs\n",
      "   press 2 for recliner seats-500rs\n",
      "   \n"
     ]
    },
    {
     "name": "stdin",
     "output_type": "stream",
     "text": [
      "enter your choice between 1 and 2: 1\n",
      "enter number of seats 2\n"
     ]
    },
    {
     "name": "stdout",
     "output_type": "stream",
     "text": [
      "the amount is: 500\n"
     ]
    },
    {
     "name": "stdin",
     "output_type": "stream",
     "text": [
      "do you want combo? no\n"
     ]
    },
    {
     "name": "stdout",
     "output_type": "stream",
     "text": [
      "------------------------------\n",
      "customer's name: wa\n",
      "total amount: 500\n",
      "Thankyou for using Theatre Billing System\n",
      "______________________________\n"
     ]
    },
    {
     "name": "stdin",
     "output_type": "stream",
     "text": [
      "enter next person: no\n"
     ]
    },
    {
     "name": "stdout",
     "output_type": "stream",
     "text": [
      "sorry housefull!!\n",
      "________________________________________\n"
     ]
    }
   ],
   "source": [
    "print(\"*\"*10,\"Theatre Billing System\",\"*\"*10)\n",
    "n_seats=100\n",
    "r_seats=20\n",
    "t_seats=120\n",
    "n_price=250\n",
    "r_price=500\n",
    "while True:\n",
    "  amount=0 \n",
    "  name=input(\"enter name:\")\n",
    "  movie=input(\"enter movie name:\")\n",
    "    \n",
    "  while True:\n",
    "   print(\"\"\"press 1 for normal seats-250rs\n",
    "   press 2 for recliner seats-500rs\n",
    "   \"\"\")\n",
    "   choice=int(input(\"enter your choice between 1 and 2:\"))\n",
    "   if choice==1:\n",
    "         seats=int(input(\"enter number of seats\"))\n",
    "         if seats>n_seats:\n",
    "          print(\"number of seats available in normal:\",n_seats)\n",
    "          print(\"number of setas available in recliner:\",r_seats)\n",
    "         else:\n",
    "          amount=n_price*seats\n",
    "          n_seats-=seats\n",
    "          print(\"the amount is:\",amount)\n",
    "          break   \n",
    "   elif choice==2:\n",
    "         seats=int(input(\"enter number of seats\"))\n",
    "         if seats>r_seats:\n",
    "          print(\"number of seats available in normal:\",r_seats)\n",
    "          print(\"number of setas available in recliner:\",n_seats)\n",
    "         else:\n",
    "          amount=r_price*seats\n",
    "          r_seats-=seats\n",
    "          print(\"the amount is:\", amount)\n",
    "          break\n",
    "  combo=input(\"do you want combo?\").title()\n",
    "  if combo==\"Yes\":\n",
    "     \n",
    "     print(\"\"\"\"press 1 for 100rs combo\n",
    "     press 2 for 200rs combo\n",
    "     press 3 for 300rscombo\n",
    "     \"\"\")\n",
    "     cc=int(input(\"enter your choice between 1 to 3: \"))\n",
    "     if cc==1:\n",
    "        amount+=100\n",
    "     elif cc==2:\n",
    "        amount+=200\n",
    "     elif cc==3:\n",
    "        amount+=300\n",
    "     else:\n",
    "        print(\"invalid input try again?\")\n",
    "  print(\"-\"*30)\n",
    "  print(\"customer's name:\",name)\n",
    "  print(\"total amount:\",amount)\n",
    "  print(\"Thankyou for using Theatre Billing System\")  \n",
    "  print(\"_\"*30)\n",
    "\n",
    "  n_person= input(\"enter next person:\")\n",
    "  if n_person==\"no\":\n",
    "      print(\"sorry housefull!!\")\n",
    "      print(\"_\"*40)\n",
    "      break\n",
    "      \n",
    "\n"
   ]
  },
  {
   "cell_type": "code",
   "execution_count": null,
   "id": "20ebe9d7-dc0c-4c39-9d06-87dbcdc56468",
   "metadata": {},
   "outputs": [],
   "source": []
  },
  {
   "cell_type": "code",
   "execution_count": null,
   "id": "28dfeeab-a01f-436b-b19a-21194c0e639c",
   "metadata": {},
   "outputs": [],
   "source": []
  }
 ],
 "metadata": {
  "kernelspec": {
   "display_name": "Python 3 (ipykernel)",
   "language": "python",
   "name": "python3"
  },
  "language_info": {
   "codemirror_mode": {
    "name": "ipython",
    "version": 3
   },
   "file_extension": ".py",
   "mimetype": "text/x-python",
   "name": "python",
   "nbconvert_exporter": "python",
   "pygments_lexer": "ipython3",
   "version": "3.10.11"
  }
 },
 "nbformat": 4,
 "nbformat_minor": 5
}
